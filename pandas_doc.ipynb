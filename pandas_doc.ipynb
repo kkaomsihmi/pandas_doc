{
 "cells": [
  {
   "cell_type": "markdown",
   "metadata": {},
   "source": [
    "# pandas document\n",
    "pandasの関数の使い方について逐次追加していく. (2024/03/30)"
   ]
  },
  {
   "cell_type": "code",
   "execution_count": 2,
   "metadata": {},
   "outputs": [],
   "source": [
    "# import module\n",
    "import numpy as np\n",
    "import pandas as pd"
   ]
  },
  {
   "cell_type": "markdown",
   "metadata": {},
   "source": [
    "## SeriesとDataFrameについて"
   ]
  },
  {
   "cell_type": "markdown",
   "metadata": {},
   "source": [
    "### Series\n",
    "Seriesの定義方法について記載する.\n",
    "Seriesはnumpyのデータ配列, ndarray, に軸ラベルを付けたobject.\n",
    "定義の仕方は以下である,  \n",
    "\n",
    "pandas.Series(data=None, index=None, dtype=None, name=None, copy=None, fastpath=_NoDefault.no_default)  \n",
    "\n",
    "* data : 配列や辞書型、scalar量が入る.  \n",
    "* index : 1次元の配列が入る(dataと同じ長さである必要あり)  \n",
    "* dtype : str, numpy.dtypeなど  \n",
    "* name : defaultではNone. 好きに命名できる.  \n",
    "* copy : series作成の際にデータをコピーするか. Trueだと元のデータをコピー(独立なseriesに), Falseだと元データをコピーしない(元データに従属). データ不変性を優先するならばTrue, メモリ効率を優先するならばFalseがよい.  \n",
    "* fastpath : 特定の内部処理やパフォーマンスの最適化のためのオプション. 通常使用しないので今回は扱わない."
   ]
  },
  {
   "cell_type": "markdown",
   "metadata": {},
   "source": [
    "### 引数copyについて\n",
    "以下で見るように, 引数copyは元のデータがlistの場合は変わらない. np.arrayの場合copy=falseの時に同じメモリにあるnp.arrayを参照するため, serisの値を変えるとnp.arrayも変わる,"
   ]
  },
  {
   "cell_type": "code",
   "execution_count": 60,
   "metadata": {},
   "outputs": [
    {
     "name": "stdout",
     "output_type": "stream",
     "text": [
      "r_true =  [1, 2]\n",
      "0    999\n",
      "1      2\n",
      "Name: copyTrue, dtype: int64\n",
      "r_false =  [1, 2]\n",
      "0    999\n",
      "1      2\n",
      "Name: copyFalse, dtype: int64\n"
     ]
    }
   ],
   "source": [
    "r_true = [1, 2] # original list\n",
    "r_false = [1, 2] # original list\n",
    "ser_true = pd.Series(r_true, copy=True, name=\"copyTrue\")    #series定義\n",
    "ser_false = pd.Series(r_false, copy=False, name=\"copyFalse\")#series定義\n",
    "ser_true.iloc[0] = 999  #ser_trueの1行目の値に999を代入\n",
    "ser_false.iloc[0] = 999 #ser_falseの1行目の値に999を代入\n",
    "print(\"r_true = \", r_true)  #変化なし\n",
    "print(ser_true)\n",
    "print(\"r_false = \", r_false)#変化なし\n",
    "print(ser_false)"
   ]
  },
  {
   "cell_type": "code",
   "execution_count": 62,
   "metadata": {},
   "outputs": [
    {
     "name": "stdout",
     "output_type": "stream",
     "text": [
      "r_true =  [1 2]\n",
      "0    999\n",
      "1      2\n",
      "Name: copyTrue, dtype: int32\n",
      "r_true =  [999   2]\n",
      "0    999\n",
      "1      2\n",
      "Name: copyFalse, dtype: int32\n"
     ]
    }
   ],
   "source": [
    "r_true = np.array([1, 2]) # original list\n",
    "r_false = np.array([1, 2]) # original list\n",
    "ser_true = pd.Series(r_true, copy=True, name=\"copyTrue\")\n",
    "ser_false = pd.Series(r_false, copy=False, name=\"copyFalse\")\n",
    "ser_true.iloc[0] = 999\n",
    "ser_false.iloc[0] = 999\n",
    "print(\"r_true = \", r_true)  #copyしているため変化なし\n",
    "print(ser_true)\n",
    "print(\"r_true = \", r_false) #copyしていないので変化する\n",
    "print(ser_false)"
   ]
  },
  {
   "cell_type": "code",
   "execution_count": null,
   "metadata": {},
   "outputs": [],
   "source": []
  }
 ],
 "metadata": {
  "kernelspec": {
   "display_name": ".venv",
   "language": "python",
   "name": "python3"
  },
  "language_info": {
   "codemirror_mode": {
    "name": "ipython",
    "version": 3
   },
   "file_extension": ".py",
   "mimetype": "text/x-python",
   "name": "python",
   "nbconvert_exporter": "python",
   "pygments_lexer": "ipython3",
   "version": "3.12.2"
  }
 },
 "nbformat": 4,
 "nbformat_minor": 2
}
